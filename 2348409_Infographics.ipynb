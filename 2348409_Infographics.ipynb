{
  "nbformat": 4,
  "nbformat_minor": 0,
  "metadata": {
    "colab": {
      "provenance": []
    },
    "kernelspec": {
      "name": "python3",
      "display_name": "Python 3"
    },
    "language_info": {
      "name": "python"
    }
  },
  "cells": [
    {
      "cell_type": "code",
      "execution_count": null,
      "metadata": {
        "colab": {
          "base_uri": "https://localhost:8080/",
          "height": 73
        },
        "id": "GD1mAifhLXya",
        "outputId": "a5856b00-9cfe-4d28-8455-410e300f2440"
      },
      "outputs": [
        {
          "output_type": "display_data",
          "data": {
            "text/plain": [
              "<IPython.core.display.HTML object>"
            ],
            "text/html": [
              "\n",
              "     <input type=\"file\" id=\"files-4d6810be-7125-46ee-b77d-263c5d0d50e7\" name=\"files[]\" multiple disabled\n",
              "        style=\"border:none\" />\n",
              "     <output id=\"result-4d6810be-7125-46ee-b77d-263c5d0d50e7\">\n",
              "      Upload widget is only available when the cell has been executed in the\n",
              "      current browser session. Please rerun this cell to enable.\n",
              "      </output>\n",
              "      <script>// Copyright 2017 Google LLC\n",
              "//\n",
              "// Licensed under the Apache License, Version 2.0 (the \"License\");\n",
              "// you may not use this file except in compliance with the License.\n",
              "// You may obtain a copy of the License at\n",
              "//\n",
              "//      http://www.apache.org/licenses/LICENSE-2.0\n",
              "//\n",
              "// Unless required by applicable law or agreed to in writing, software\n",
              "// distributed under the License is distributed on an \"AS IS\" BASIS,\n",
              "// WITHOUT WARRANTIES OR CONDITIONS OF ANY KIND, either express or implied.\n",
              "// See the License for the specific language governing permissions and\n",
              "// limitations under the License.\n",
              "\n",
              "/**\n",
              " * @fileoverview Helpers for google.colab Python module.\n",
              " */\n",
              "(function(scope) {\n",
              "function span(text, styleAttributes = {}) {\n",
              "  const element = document.createElement('span');\n",
              "  element.textContent = text;\n",
              "  for (const key of Object.keys(styleAttributes)) {\n",
              "    element.style[key] = styleAttributes[key];\n",
              "  }\n",
              "  return element;\n",
              "}\n",
              "\n",
              "// Max number of bytes which will be uploaded at a time.\n",
              "const MAX_PAYLOAD_SIZE = 100 * 1024;\n",
              "\n",
              "function _uploadFiles(inputId, outputId) {\n",
              "  const steps = uploadFilesStep(inputId, outputId);\n",
              "  const outputElement = document.getElementById(outputId);\n",
              "  // Cache steps on the outputElement to make it available for the next call\n",
              "  // to uploadFilesContinue from Python.\n",
              "  outputElement.steps = steps;\n",
              "\n",
              "  return _uploadFilesContinue(outputId);\n",
              "}\n",
              "\n",
              "// This is roughly an async generator (not supported in the browser yet),\n",
              "// where there are multiple asynchronous steps and the Python side is going\n",
              "// to poll for completion of each step.\n",
              "// This uses a Promise to block the python side on completion of each step,\n",
              "// then passes the result of the previous step as the input to the next step.\n",
              "function _uploadFilesContinue(outputId) {\n",
              "  const outputElement = document.getElementById(outputId);\n",
              "  const steps = outputElement.steps;\n",
              "\n",
              "  const next = steps.next(outputElement.lastPromiseValue);\n",
              "  return Promise.resolve(next.value.promise).then((value) => {\n",
              "    // Cache the last promise value to make it available to the next\n",
              "    // step of the generator.\n",
              "    outputElement.lastPromiseValue = value;\n",
              "    return next.value.response;\n",
              "  });\n",
              "}\n",
              "\n",
              "/**\n",
              " * Generator function which is called between each async step of the upload\n",
              " * process.\n",
              " * @param {string} inputId Element ID of the input file picker element.\n",
              " * @param {string} outputId Element ID of the output display.\n",
              " * @return {!Iterable<!Object>} Iterable of next steps.\n",
              " */\n",
              "function* uploadFilesStep(inputId, outputId) {\n",
              "  const inputElement = document.getElementById(inputId);\n",
              "  inputElement.disabled = false;\n",
              "\n",
              "  const outputElement = document.getElementById(outputId);\n",
              "  outputElement.innerHTML = '';\n",
              "\n",
              "  const pickedPromise = new Promise((resolve) => {\n",
              "    inputElement.addEventListener('change', (e) => {\n",
              "      resolve(e.target.files);\n",
              "    });\n",
              "  });\n",
              "\n",
              "  const cancel = document.createElement('button');\n",
              "  inputElement.parentElement.appendChild(cancel);\n",
              "  cancel.textContent = 'Cancel upload';\n",
              "  const cancelPromise = new Promise((resolve) => {\n",
              "    cancel.onclick = () => {\n",
              "      resolve(null);\n",
              "    };\n",
              "  });\n",
              "\n",
              "  // Wait for the user to pick the files.\n",
              "  const files = yield {\n",
              "    promise: Promise.race([pickedPromise, cancelPromise]),\n",
              "    response: {\n",
              "      action: 'starting',\n",
              "    }\n",
              "  };\n",
              "\n",
              "  cancel.remove();\n",
              "\n",
              "  // Disable the input element since further picks are not allowed.\n",
              "  inputElement.disabled = true;\n",
              "\n",
              "  if (!files) {\n",
              "    return {\n",
              "      response: {\n",
              "        action: 'complete',\n",
              "      }\n",
              "    };\n",
              "  }\n",
              "\n",
              "  for (const file of files) {\n",
              "    const li = document.createElement('li');\n",
              "    li.append(span(file.name, {fontWeight: 'bold'}));\n",
              "    li.append(span(\n",
              "        `(${file.type || 'n/a'}) - ${file.size} bytes, ` +\n",
              "        `last modified: ${\n",
              "            file.lastModifiedDate ? file.lastModifiedDate.toLocaleDateString() :\n",
              "                                    'n/a'} - `));\n",
              "    const percent = span('0% done');\n",
              "    li.appendChild(percent);\n",
              "\n",
              "    outputElement.appendChild(li);\n",
              "\n",
              "    const fileDataPromise = new Promise((resolve) => {\n",
              "      const reader = new FileReader();\n",
              "      reader.onload = (e) => {\n",
              "        resolve(e.target.result);\n",
              "      };\n",
              "      reader.readAsArrayBuffer(file);\n",
              "    });\n",
              "    // Wait for the data to be ready.\n",
              "    let fileData = yield {\n",
              "      promise: fileDataPromise,\n",
              "      response: {\n",
              "        action: 'continue',\n",
              "      }\n",
              "    };\n",
              "\n",
              "    // Use a chunked sending to avoid message size limits. See b/62115660.\n",
              "    let position = 0;\n",
              "    do {\n",
              "      const length = Math.min(fileData.byteLength - position, MAX_PAYLOAD_SIZE);\n",
              "      const chunk = new Uint8Array(fileData, position, length);\n",
              "      position += length;\n",
              "\n",
              "      const base64 = btoa(String.fromCharCode.apply(null, chunk));\n",
              "      yield {\n",
              "        response: {\n",
              "          action: 'append',\n",
              "          file: file.name,\n",
              "          data: base64,\n",
              "        },\n",
              "      };\n",
              "\n",
              "      let percentDone = fileData.byteLength === 0 ?\n",
              "          100 :\n",
              "          Math.round((position / fileData.byteLength) * 100);\n",
              "      percent.textContent = `${percentDone}% done`;\n",
              "\n",
              "    } while (position < fileData.byteLength);\n",
              "  }\n",
              "\n",
              "  // All done.\n",
              "  yield {\n",
              "    response: {\n",
              "      action: 'complete',\n",
              "    }\n",
              "  };\n",
              "}\n",
              "\n",
              "scope.google = scope.google || {};\n",
              "scope.google.colab = scope.google.colab || {};\n",
              "scope.google.colab._files = {\n",
              "  _uploadFiles,\n",
              "  _uploadFilesContinue,\n",
              "};\n",
              "})(self);\n",
              "</script> "
            ]
          },
          "metadata": {}
        },
        {
          "output_type": "stream",
          "name": "stdout",
          "text": [
            "Saving Stu_info.csv to Stu_info.csv\n"
          ]
        }
      ],
      "source": [
        "from google.colab import files\n",
        "uploaded = files.upload()\n"
      ]
    },
    {
      "cell_type": "code",
      "source": [
        "import csv\n",
        "with open('Stu_info.csv','r') as f:\n",
        "  Student_details = list(csv.reader(f))\n"
      ],
      "metadata": {
        "id": "h8UNq7U9L3X-"
      },
      "execution_count": null,
      "outputs": []
    },
    {
      "cell_type": "code",
      "source": [
        "import numpy as np\n",
        "Student_info = np.array(Student_details)\n",
        "print(Student_info)"
      ],
      "metadata": {
        "id": "Iar9VkLWMox-",
        "colab": {
          "base_uri": "https://localhost:8080/"
        },
        "outputId": "c4f71a91-b286-4a42-e67f-8e05a920e391"
      },
      "execution_count": 8,
      "outputs": [
        {
          "output_type": "stream",
          "name": "stdout",
          "text": [
            "[['SName' 'SRno' 'Sub1' 'Sub2' 'Sub3' 'Sub4' 'Sub5']\n",
            " ['Angeline' '2348409' '87' '96' '87' '92' '86']\n",
            " ['Aan' '2348401' '89' '76' '49' '23' '78']\n",
            " ['Blessy' '2348416' '78' '96' '38' '46' '78']\n",
            " ['Karina' '2348433' '45' '68' '75' '63' '78']\n",
            " ['Livya' '2348406' '75' '69' '43' '75' '78']\n",
            " ['Tina' '2348402' '36' '15' '46' '78' '93']\n",
            " ['Samhita' '2348403' '74' '63' '49' '35' '31']\n",
            " ['Joshva' '2348407' '87' '54' '35' '16' '94']\n",
            " ['Joe' '2348436' '99' '96' '95' '96' '90']\n",
            " ['Harry' '2348404' '78' '96' '48' '76' '54']\n",
            " ['Charles' '2348405' '97' '56' '45' '65' '45']\n",
            " ['Carolin' '2348423' '56' '75' '89' '68' '94']\n",
            " ['Ashwathy' '2348414' '76' '85' '96' '45' '68']\n",
            " ['Rakshitha' '2348448' '78' '96' '36' '45' '68']\n",
            " ['Prathish' '2348444' '75' '64' '56' '86' '92']\n",
            " ['Jude' '2348431' '76' '85' '96' '47' '65']\n",
            " ['Aakash' '2348456' '75' '36' '46' '12' '54']\n",
            " ['Delna' '2348419' '75' '43' '65' '13' '46']\n",
            " ['Akshaya' '2348435' '75' '96' '45' '36' '45']\n",
            " ['Akshara' '2348436' '96' '45' '63' '74' '64']\n",
            " ['Neha' '2348411' '63' '47' '12' '63' '89']\n",
            " ['Rhael' '2348408' '85' '64' '36' '75' '96']\n",
            " ['Jesin' '2348412' '85' '92' '45' '36' '13']\n",
            " ['Elizabeth' '2348421' '96' '36' '75' '65' '35']\n",
            " ['Aditi' '2348461' '35' '75' '69' '45' '69']\n",
            " ['Keerthi' '2348434' '54' '96' '43' '46' '54']\n",
            " ['Meenakshi' '2348437' '74' '96' '75' '36' '45']\n",
            " ['Ram' '2348463' '75' '93' '83' '35' '74']\n",
            " ['Kushi' '2348466' '36' '75' '99' '46' '78']\n",
            " ['Xavier' '2348465' '74' '96' '76' '48' '65']]\n"
          ]
        }
      ]
    },
    {
      "cell_type": "code",
      "source": [
        "Marks_1 = Student_info[1:,2:]\n",
        "Marks_2 = Marks_1.astype(np.int)\n",
        "print(Marks_2)\n",
        "RegNo = Student_info[1:,1]\n",
        "Reg_no = RegNo.astype(np.int)\n",
        "print(Reg_no)"
      ],
      "metadata": {
        "colab": {
          "base_uri": "https://localhost:8080/"
        },
        "id": "l1ycvPc4NrIR",
        "outputId": "2cdabf67-e761-4f33-bcf5-435a2da69ff5"
      },
      "execution_count": 23,
      "outputs": [
        {
          "output_type": "stream",
          "name": "stdout",
          "text": [
            "[[87 96 87 92 86]\n",
            " [89 76 49 23 78]\n",
            " [78 96 38 46 78]\n",
            " [45 68 75 63 78]\n",
            " [75 69 43 75 78]\n",
            " [36 15 46 78 93]\n",
            " [74 63 49 35 31]\n",
            " [87 54 35 16 94]\n",
            " [99 96 95 96 90]\n",
            " [78 96 48 76 54]\n",
            " [97 56 45 65 45]\n",
            " [56 75 89 68 94]\n",
            " [76 85 96 45 68]\n",
            " [78 96 36 45 68]\n",
            " [75 64 56 86 92]\n",
            " [76 85 96 47 65]\n",
            " [75 36 46 12 54]\n",
            " [75 43 65 13 46]\n",
            " [75 96 45 36 45]\n",
            " [96 45 63 74 64]\n",
            " [63 47 12 63 89]\n",
            " [85 64 36 75 96]\n",
            " [85 92 45 36 13]\n",
            " [96 36 75 65 35]\n",
            " [35 75 69 45 69]\n",
            " [54 96 43 46 54]\n",
            " [74 96 75 36 45]\n",
            " [75 93 83 35 74]\n",
            " [36 75 99 46 78]\n",
            " [74 96 76 48 65]]\n",
            "[2348409 2348401 2348416 2348433 2348406 2348402 2348403 2348407 2348436\n",
            " 2348404 2348405 2348423 2348414 2348448 2348444 2348431 2348456 2348419\n",
            " 2348435 2348436 2348411 2348408 2348412 2348421 2348461 2348434 2348437\n",
            " 2348463 2348466 2348465]\n"
          ]
        },
        {
          "output_type": "stream",
          "name": "stderr",
          "text": [
            "<ipython-input-23-de0139267e15>:2: DeprecationWarning: `np.int` is a deprecated alias for the builtin `int`. To silence this warning, use `int` by itself. Doing this will not modify any behavior and is safe. When replacing `np.int`, you may wish to use e.g. `np.int64` or `np.int32` to specify the precision. If you wish to review your current use, check the release note link for additional information.\n",
            "Deprecated in NumPy 1.20; for more details and guidance: https://numpy.org/devdocs/release/1.20.0-notes.html#deprecations\n",
            "  Marks_2 = Marks_1.astype(np.int)\n",
            "<ipython-input-23-de0139267e15>:5: DeprecationWarning: `np.int` is a deprecated alias for the builtin `int`. To silence this warning, use `int` by itself. Doing this will not modify any behavior and is safe. When replacing `np.int`, you may wish to use e.g. `np.int64` or `np.int32` to specify the precision. If you wish to review your current use, check the release note link for additional information.\n",
            "Deprecated in NumPy 1.20; for more details and guidance: https://numpy.org/devdocs/release/1.20.0-notes.html#deprecations\n",
            "  Reg_no = RegNo.astype(np.int)\n"
          ]
        }
      ]
    },
    {
      "cell_type": "code",
      "source": [
        "Total_marks = np.sum(Marks_2,axis = 1)\n",
        "print(Total_marks)"
      ],
      "metadata": {
        "colab": {
          "base_uri": "https://localhost:8080/"
        },
        "id": "znbBFoJRNygV",
        "outputId": "d9746a1f-dc98-43bb-c2a1-ecd9ae7c5d52"
      },
      "execution_count": 22,
      "outputs": [
        {
          "output_type": "stream",
          "name": "stdout",
          "text": [
            "[448 315 336 329 340 268 252 286 476 352 308 382 370 323 373 369 223 242\n",
            " 297 342 274 356 271 307 293 293 326 360 334 359]\n"
          ]
        }
      ]
    },
    {
      "cell_type": "code",
      "source": [
        "%matplotlib inline\n",
        "import matplotlib.pyplot as plt"
      ],
      "metadata": {
        "id": "GkhJCL7DMOd9"
      },
      "execution_count": null,
      "outputs": []
    },
    {
      "cell_type": "code",
      "source": [
        "fig = plt.figure()\n",
        "ax = plt.axes()\n",
        "#Line Chart\n",
        "ax.plot(Total_marks, color = 'Red')"
      ],
      "metadata": {
        "id": "gtsSEwo_Mkvk",
        "colab": {
          "base_uri": "https://localhost:8080/",
          "height": 447
        },
        "outputId": "ce8da5f5-5967-4454-d168-cf881fabbaa1"
      },
      "execution_count": 25,
      "outputs": [
        {
          "output_type": "execute_result",
          "data": {
            "text/plain": [
              "[<matplotlib.lines.Line2D at 0x7e16ef38ab90>]"
            ]
          },
          "metadata": {},
          "execution_count": 25
        },
        {
          "output_type": "display_data",
          "data": {
            "text/plain": [
              "<Figure size 640x480 with 1 Axes>"
            ],
            "image/png": "[encoded data removed]"
          },
          "metadata": {}
        }
      ]
    },
    {
      "cell_type": "code",
      "source": [
        "#Scatter chart\n",
        "plt.plot(Total_marks, 'd', color='Blue');"
      ],
      "metadata": {
        "colab": {
          "base_uri": "https://localhost:8080/",
          "height": 430
        },
        "id": "pVDNLFVmSI4L",
        "outputId": "c1e0589b-4e8e-42bc-ce92-e0d3349f2da0"
      },
      "execution_count": 30,
      "outputs": [
        {
          "output_type": "display_data",
          "data": {
            "text/plain": [
              "<Figure size 640x480 with 1 Axes>"
            ],
            "image/png": "[encoded data removed]"
          },
          "metadata": {}
        }
      ]
    },
    {
      "cell_type": "code",
      "source": [
        "#Histogram\n",
        "plt.hist(Total_marks,color = 'yellow')"
      ],
      "metadata": {
        "colab": {
          "base_uri": "https://localhost:8080/",
          "height": 499
        },
        "id": "3OJwv8xGT5iY",
        "outputId": "6ea0f263-80c7-4220-fbb7-016898428030"
      },
      "execution_count": 36,
      "outputs": [
        {
          "output_type": "execute_result",
          "data": {
            "text/plain": [
              "(array([2., 3., 5., 4., 6., 7., 1., 0., 1., 1.]),\n",
              " array([223. , 248.3, 273.6, 298.9, 324.2, 349.5, 374.8, 400.1, 425.4,\n",
              "        450.7, 476. ]),\n",
              " <BarContainer object of 10 artists>)"
            ]
          },
          "metadata": {},
          "execution_count": 36
        },
        {
          "output_type": "display_data",
          "data": {
            "text/plain": [
              "<Figure size 640x480 with 1 Axes>"
            ],
            "image/png": "[encoded data removed]"
          },
          "metadata": {}
        }
      ]
    }
  ]
}